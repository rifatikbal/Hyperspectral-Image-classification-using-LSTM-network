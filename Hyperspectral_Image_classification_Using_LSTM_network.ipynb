{
  "nbformat": 4,
  "nbformat_minor": 0,
  "metadata": {
    "accelerator": "GPU",
    "colab": {
      "name": "Hyperspectral Image classification Using LSTM network",
      "provenance": [],
      "collapsed_sections": []
    },
    "kernelspec": {
      "display_name": "Python 3",
      "name": "python3"
    }
  },
  "cells": [
    {
      "cell_type": "code",
      "metadata": {
        "colab": {
          "base_uri": "https://localhost:8080/",
          "height": 141
        },
        "id": "e3hAX7sA1MGu",
        "outputId": "6351bdd9-a8b1-45dc-efff-5959d8756ca0"
      },
      "source": [
        "!pip install spectral\n",
        "\n",
        "import keras\n",
        "from keras.layers import Conv2D, Conv3D, Flatten, Dense, Reshape, BatchNormalization\n",
        "from keras.layers import Dropout, Input\n",
        "from keras.models import Model\n",
        "from keras.optimizers import Adam\n",
        "from keras.callbacks import ModelCheckpoint\n",
        "from keras.utils import np_utils\n",
        " \n",
        "from sklearn.decomposition import PCA\n",
        "from sklearn.model_selection import train_test_split\n",
        "from sklearn.metrics import confusion_matrix, accuracy_score, classification_report, cohen_kappa_score\n",
        " \n",
        "from operator import truediv\n",
        " \n",
        "from plotly.offline import init_notebook_mode\n",
        " \n",
        "import numpy as np\n",
        "import matplotlib.pyplot as plt\n",
        "import scipy.io as sio\n",
        "import os\n",
        "import spectral\n",
        " \n",
        "init_notebook_mode(connected=True)\n",
        "%matplotlib inline\n",
        "\n",
        "from google.colab import drive\n",
        "drive.mount('/content/drive')"
      ],
      "execution_count": 1,
      "outputs": [
        {
          "output_type": "stream",
          "text": [
            "Collecting spectral\n",
            "\u001b[?25l  Downloading https://files.pythonhosted.org/packages/ce/06/6a89035cde4eac3ed94e1888f850af653386e8ee827edc72ffc8e445bcb7/spectral-0.22.1-py3-none-any.whl (212kB)\n",
            "\r\u001b[K     |█▌                              | 10kB 27.2MB/s eta 0:00:01\r\u001b[K     |███                             | 20kB 33.3MB/s eta 0:00:01\r\u001b[K     |████▋                           | 30kB 29.2MB/s eta 0:00:01\r\u001b[K     |██████▏                         | 40kB 25.4MB/s eta 0:00:01\r\u001b[K     |███████▊                        | 51kB 25.7MB/s eta 0:00:01\r\u001b[K     |█████████▎                      | 61kB 28.2MB/s eta 0:00:01\r\u001b[K     |██████████▊                     | 71kB 19.3MB/s eta 0:00:01\r\u001b[K     |████████████▎                   | 81kB 20.7MB/s eta 0:00:01\r\u001b[K     |█████████████▉                  | 92kB 18.6MB/s eta 0:00:01\r\u001b[K     |███████████████▍                | 102kB 19.1MB/s eta 0:00:01\r\u001b[K     |█████████████████               | 112kB 19.1MB/s eta 0:00:01\r\u001b[K     |██████████████████▌             | 122kB 19.1MB/s eta 0:00:01\r\u001b[K     |████████████████████            | 133kB 19.1MB/s eta 0:00:01\r\u001b[K     |█████████████████████▌          | 143kB 19.1MB/s eta 0:00:01\r\u001b[K     |███████████████████████         | 153kB 19.1MB/s eta 0:00:01\r\u001b[K     |████████████████████████▋       | 163kB 19.1MB/s eta 0:00:01\r\u001b[K     |██████████████████████████▏     | 174kB 19.1MB/s eta 0:00:01\r\u001b[K     |███████████████████████████▊    | 184kB 19.1MB/s eta 0:00:01\r\u001b[K     |█████████████████████████████▎  | 194kB 19.1MB/s eta 0:00:01\r\u001b[K     |██████████████████████████████▊ | 204kB 19.1MB/s eta 0:00:01\r\u001b[K     |████████████████████████████████| 215kB 19.1MB/s \n",
            "\u001b[?25hRequirement already satisfied: numpy in /usr/local/lib/python3.6/dist-packages (from spectral) (1.19.5)\n",
            "Installing collected packages: spectral\n",
            "Successfully installed spectral-0.22.1\n"
          ],
          "name": "stdout"
        },
        {
          "output_type": "display_data",
          "data": {
            "text/html": [
              "        <script type=\"text/javascript\">\n",
              "        window.PlotlyConfig = {MathJaxConfig: 'local'};\n",
              "        if (window.MathJax) {MathJax.Hub.Config({SVG: {font: \"STIX-Web\"}});}\n",
              "        if (typeof require !== 'undefined') {\n",
              "        require.undef(\"plotly\");\n",
              "        requirejs.config({\n",
              "            paths: {\n",
              "                'plotly': ['https://cdn.plot.ly/plotly-latest.min']\n",
              "            }\n",
              "        });\n",
              "        require(['plotly'], function(Plotly) {\n",
              "            window._Plotly = Plotly;\n",
              "        });\n",
              "        }\n",
              "        </script>\n",
              "        "
            ]
          },
          "metadata": {
            "tags": []
          }
        },
        {
          "output_type": "stream",
          "text": [
            "Mounted at /content/drive\n"
          ],
          "name": "stdout"
        }
      ]
    },
    {
      "cell_type": "code",
      "metadata": {
        "colab": {
          "base_uri": "https://localhost:8080/"
        },
        "id": "D76Wla4c1U2g",
        "outputId": "7f2c6e16-9f3d-4bb9-ecba-b9f2ed37e163"
      },
      "source": [
        "from google.colab import drive\n",
        "drive.mount('/content/drive')"
      ],
      "execution_count": 4,
      "outputs": [
        {
          "output_type": "stream",
          "text": [
            "Drive already mounted at /content/drive; to attempt to forcibly remount, call drive.mount(\"/content/drive\", force_remount=True).\n"
          ],
          "name": "stdout"
        }
      ]
    },
    {
      "cell_type": "code",
      "metadata": {
        "colab": {
          "base_uri": "https://localhost:8080/"
        },
        "id": "a3GewZD515zV",
        "outputId": "674cb69a-5345-43ab-84a1-a253d57e0d0b"
      },
      "source": [
        "X=sio.loadmat('/content/drive/MyDrive/Dataset/Indian_pines_corrected.mat')['indian_pines_corrected']\n",
        "y=sio.loadmat('/content/drive/MyDrive/Dataset/Indian_pines_gt.mat')['indian_pines_gt']\n",
        "\n",
        "\n",
        "noc=25\n",
        "X=np.reshape(X,(145*145,200))\n",
        "from sklearn.decomposition import PCA\n",
        "pca = PCA(n_components = noc)\n",
        "X = pca.fit_transform(X)\n",
        "X.shape\n",
        "y=np.reshape(y,(145*145))\n",
        "\n",
        "\n",
        "X.shape\n",
        "\n",
        "\n",
        "XX=np.zeros((10249,noc))\n",
        "YY=np.zeros(10249)\n",
        "c=0\n",
        "for i in range(21025):\n",
        "  if(y[int(i)]>0):\n",
        "    XX[int(c)]=X[i]\n",
        "    YY[int(c)]=y[i]\n",
        "    c=c+1\n",
        "\n",
        "X=XX\n",
        "y=YY\n",
        "\n",
        "#traindata.shape,testdata.shape ,trainclass.shape,testclass.shape\n",
        "X.shape,y.shape\n"
      ],
      "execution_count": 5,
      "outputs": [
        {
          "output_type": "execute_result",
          "data": {
            "text/plain": [
              "((10249, 25), (10249,))"
            ]
          },
          "metadata": {
            "tags": []
          },
          "execution_count": 5
        }
      ]
    },
    {
      "cell_type": "code",
      "metadata": {
        "id": "znj2iwK02OCM",
        "colab": {
          "base_uri": "https://localhost:8080/"
        },
        "outputId": "82e98a6f-dfd9-459a-911c-29e9f9749006"
      },
      "source": [
        "ts=1\r\n",
        "ft=25\r\n",
        "traindata,testdata,trainclass,testclass=train_test_split(X,y,test_size=0.2,random_state=345,stratify=y)\r\n",
        "\r\n",
        "traindata,validationdata,trainclass,validationclass=train_test_split(traindata,trainclass,test_size=0.4,random_state=50,stratify=trainclass)\r\n",
        "\r\n",
        "traindata.shape,validationdata.shape"
      ],
      "execution_count": 9,
      "outputs": [
        {
          "output_type": "execute_result",
          "data": {
            "text/plain": [
              "((4919, 25), (3280, 25))"
            ]
          },
          "metadata": {
            "tags": []
          },
          "execution_count": 9
        }
      ]
    },
    {
      "cell_type": "code",
      "metadata": {
        "colab": {
          "base_uri": "https://localhost:8080/"
        },
        "id": "Geqlq6nE-6T6",
        "outputId": "e580a61b-f654-4e19-c360-bb7155624059"
      },
      "source": [
        "traindata.shape"
      ],
      "execution_count": null,
      "outputs": [
        {
          "output_type": "execute_result",
          "data": {
            "text/plain": [
              "(4919, 25)"
            ]
          },
          "metadata": {
            "tags": []
          },
          "execution_count": 5
        }
      ]
    },
    {
      "cell_type": "code",
      "metadata": {
        "id": "BuwKYZNA-BVZ"
      },
      "source": [
        "from sklearn.preprocessing import LabelBinarizer\r\n",
        "bin = LabelBinarizer()\r\n",
        "\r\n",
        "trainclass=bin.fit_transform(trainclass)\r\n",
        "testclass=bin.fit_transform(testclass)\r\n",
        "validationclass=bin.fit_transform(validationclass)\r\n",
        "\r\n",
        "traindata=np.reshape(traindata,(4919,ts,ft))\r\n",
        "validationdata=np.reshape(validationdata,(3280,ts,ft))\r\n",
        "testdata=np.reshape(testdata,(2050,ts,ft))\r\n"
      ],
      "execution_count": 10,
      "outputs": []
    },
    {
      "cell_type": "code",
      "metadata": {
        "colab": {
          "base_uri": "https://localhost:8080/",
          "height": 566
        },
        "id": "EYjlew-52ZAk",
        "outputId": "d0078ec8-913e-4999-f52d-bacfdd3c3269"
      },
      "source": [
        "#Ar=[300,300,400,500,600]\r\n",
        "#Br=[440,330,440,350,260]\r\n",
        "#Cr=[320,220,250,300,350]\r\n",
        "#c=1\r\n",
        "#for ii in range(5):\r\n",
        " # for jj in range(5):\r\n",
        "  #  for kk in range(5):\r\n",
        "   #   print(Ar[ii],\" \",Br[jj],\" \",Cr[kk])\r\n",
        "      #Initializing library for  LSTM\r\n",
        "from keras.models import Sequential\r\n",
        "from keras.layers import Dense\r\n",
        "from keras.layers import LSTM\r\n",
        "from keras.layers import Conv1D\r\n",
        "from keras.layers import MaxPooling1D\r\n",
        "from keras.layers import Dropout\r\n",
        "#Creating  LSTM model\r\n",
        "model = Sequential()\r\n",
        "model.add(LSTM(300, activation='relu',return_sequences=True,input_shape=(ts, ft)))\r\n",
        "model.add(Dropout(0.3))\r\n",
        "model.add(LSTM(440, activation='relu'))\r\n",
        "model.add(Dropout(0.3))\r\n",
        "model.add(Dense(320, activation='relu'))\r\n",
        "model.add(Dropout(0.3))\r\n",
        "model.add(Dense(16,activation='softmax'))\r\n",
        "model.compile(optimizer='adam',loss='categorical_crossentropy',metrics=['accuracy'])\r\n",
        "st=str(c)+\".png\"\r\n",
        "\r\n",
        "history=model.fit(traindata,trainclass,epochs=50, validation_data=(validationdata,validationclass),verbose=0)\r\n",
        "results= model.evaluate(testdata,testclass,batch_size=128)\r\n",
        "y_pred=model.predict(testdata)\r\n",
        "print(y_pred)\r\n",
        "print(\"test loss, test acc:\", results)\r\n",
        "\r\n",
        "plt.plot(history.history['loss'])\r\n",
        "plt.plot(history.history['val_loss'])\r\n",
        "plt.savefig(st)\r\n",
        "plt.pause(0.05)\r\n",
        "c=c+1\r\n",
        "\r\n"
      ],
      "execution_count": 8,
      "outputs": [
        {
          "output_type": "stream",
          "text": [
            "WARNING:tensorflow:Layer lstm will not use cuDNN kernel since it doesn't meet the cuDNN kernel criteria. It will use generic GPU kernel as fallback when running on GPU\n",
            "WARNING:tensorflow:Layer lstm_1 will not use cuDNN kernel since it doesn't meet the cuDNN kernel criteria. It will use generic GPU kernel as fallback when running on GPU\n",
            "17/17 [==============================] - 0s 3ms/step - loss: 0.7821 - accuracy: 0.7073\n",
            "[[2.5508928e-04 2.0427200e-04 2.3231726e-06 ... 1.7474743e-03\n",
            "  7.8617150e-01 9.2349900e-08]\n",
            " [4.6146344e-16 1.4899916e-15 1.0338163e-16 ... 1.0597165e-08\n",
            "  4.1073066e-04 1.7566901e-16]\n",
            " [1.3851069e-04 1.6259654e-01 1.8694305e-01 ... 4.6515907e-04\n",
            "  1.0949561e-03 2.3591605e-03]\n",
            " ...\n",
            " [1.3158272e-04 9.6968472e-02 2.9425433e-01 ... 5.7543290e-04\n",
            "  1.2299049e-03 1.9639398e-03]\n",
            " [1.2350253e-10 1.6128136e-02 5.4503731e-02 ... 2.7507840e-10\n",
            "  1.8334531e-09 6.4190893e-08]\n",
            " [1.0597438e-07 2.6915470e-07 3.9130006e-07 ... 1.2116289e-04\n",
            "  7.9484329e-02 6.9916787e-08]]\n",
            "test loss, test acc: [0.7821089625358582, 0.707317054271698]\n"
          ],
          "name": "stdout"
        },
        {
          "output_type": "display_data",
          "data": {
            "image/png": "[encoded data removed]",
            "text/plain": [
              "<Figure size 432x288 with 1 Axes>"
            ]
          },
          "metadata": {
            "tags": [],
            "needs_background": "light"
          }
        }
      ]
    },
    {
      "cell_type": "code",
      "metadata": {
        "id": "vw96obQy6v_4",
        "colab": {
          "base_uri": "https://localhost:8080/"
        },
        "outputId": "0c6621ba-c584-4210-e1bc-12327cfaf254"
      },
      "source": [
        "y_pred=model.predict(testdata)\r\n",
        "y_pred = np.argmax(y_pred, axis=1) \r\n",
        "testclass = np.argmax(testclass, axis=1) \r\n",
        "\r\n",
        "print(confusion_matrix(testclass,y_pred))\r\n",
        "\r\n",
        "\r\n"
      ],
      "execution_count": null,
      "outputs": [
        {
          "output_type": "stream",
          "text": [
            "[[  4   0   0   0   0   0   0   5   0   0   0   0   0   0   0   0]\n",
            " [  0 171   1   0   0   0   0   0   0  30  84   0   0   0   0   0]\n",
            " [  0  32   6   0   0   0   0   0   0  78  50   0   0   0   0   0]\n",
            " [  0  37   1   1   0   3   0   0   0   0   5   0   0   0   0   0]\n",
            " [  0   0   0   0  88   5   0   0   0   0   1   0   0   2   1   0]\n",
            " [  0   2   0   0   0 139   0   0   0   0   2   1   0   1   1   0]\n",
            " [  0   0   0   0   0   0   4   1   0   0   0   0   0   0   0   0]\n",
            " [  0   0   0   0   0   0   0  96   0   0   0   0   0   0   0   0]\n",
            " [  0   0   0   0   0   0   0   0   4   0   0   0   0   0   0   0]\n",
            " [  0   2   2   0   1   0   0   0   1 149  39   0   0   0   0   0]\n",
            " [  0  29   0   2   0   1   1   1   0  37 419   0   0   0   0   1]\n",
            " [  0  14   0   0   0   0   0   0   0  24  78   2   0   0   0   1]\n",
            " [  0   0   0   0   0   0   0   0   0   0   1   0  40   0   0   0]\n",
            " [  0   0   0   0   1   0   0   0   0   0   0   0   0 250   2   0]\n",
            " [  0   0   0   0   2  14   0   0   1   1   1   0   7  31  20   0]\n",
            " [  0   0   0   0   0   0   0   0   0   1   2   0   0   0   0  16]]\n"
          ],
          "name": "stdout"
        }
      ]
    },
    {
      "cell_type": "code",
      "metadata": {
        "colab": {
          "base_uri": "https://localhost:8080/"
        },
        "id": "CC5ilB5EJDb0",
        "outputId": "570cd40f-6ef1-4e31-8a99-0324e3ad99a3"
      },
      "source": [
        "arr=confusion_matrix(testclass,y_pred)\r\n",
        "for i in range(16):\r\n",
        "   s=0\r\n",
        "   for j in range(16):\r\n",
        "     s+=arr[i][j]\r\n",
        "   print(arr[i][i]/s)"
      ],
      "execution_count": null,
      "outputs": [
        {
          "output_type": "stream",
          "text": [
            "0.3333333333333333\n",
            "0.6468531468531469\n",
            "0.4397590361445783\n",
            "0.1276595744680851\n",
            "0.9072164948453608\n",
            "0.9863013698630136\n",
            "1.0\n",
            "1.0\n",
            "0.0\n",
            "0.6494845360824743\n",
            "0.7861507128309573\n",
            "0.7226890756302521\n",
            "0.975609756097561\n",
            "0.9841897233201581\n",
            "0.45454545454545453\n",
            "0.7894736842105263\n"
          ],
          "name": "stdout"
        }
      ]
    },
    {
      "cell_type": "code",
      "metadata": {
        "id": "zB-ld1nbJ9IK"
      },
      "source": [
        "TrC= np.argmax(trainclass, axis=1) \r\n"
      ],
      "execution_count": null,
      "outputs": []
    },
    {
      "cell_type": "code",
      "metadata": {
        "id": "eeu8Ibr2OtlF",
        "colab": {
          "base_uri": "https://localhost:8080/"
        },
        "outputId": "5e4b5b76-cb06-43c7-d80b-590e43bb1c78"
      },
      "source": [
        "cnt=np.zeros(17)\r\n",
        "for i in TrC:cnt[i]=cnt[i]+1\r\n",
        "\r\n",
        "cnt\r\n"
      ],
      "execution_count": null,
      "outputs": [
        {
          "output_type": "execute_result",
          "data": {
            "text/plain": [
              "array([  22.,  685.,  398.,  114.,  232.,  350.,   14.,  229.,   10.,\n",
              "        467., 1178.,  284.,   99.,  607.,  185.,   45.,    0.])"
            ]
          },
          "metadata": {
            "tags": []
          },
          "execution_count": 44
        }
      ]
    },
    {
      "cell_type": "code",
      "metadata": {
        "colab": {
          "base_uri": "https://localhost:8080/"
        },
        "id": "U8tXgSgvRz4a",
        "outputId": "7470e40c-d677-4ec0-d051-1d201bc438fe"
      },
      "source": [
        "cnt1=np.zeros(17)\r\n",
        "for i in testclass:cnt1[i]=cnt1[i]+1\r\n",
        "\r\n",
        "cnt1"
      ],
      "execution_count": null,
      "outputs": [
        {
          "output_type": "execute_result",
          "data": {
            "text/plain": [
              "array([  9., 286., 166.,  47.,  97., 146.,   5.,  96.,   4., 194., 491.,\n",
              "       119.,  41., 253.,  77.,  19.,   0.])"
            ]
          },
          "metadata": {
            "tags": []
          },
          "execution_count": 45
        }
      ]
    },
    {
      "cell_type": "code",
      "metadata": {
        "colab": {
          "base_uri": "https://localhost:8080/"
        },
        "id": "1QSuoctrSNf4",
        "outputId": "66ca727a-9960-4d6e-8f04-a4beabc17784"
      },
      "source": [
        "TC"
      ],
      "execution_count": null,
      "outputs": [
        {
          "output_type": "execute_result",
          "data": {
            "text/plain": [
              "array([ 1, 10,  5, ...,  5, 10, 13])"
            ]
          },
          "metadata": {
            "tags": []
          },
          "execution_count": 16
        }
      ]
    },
    {
      "cell_type": "code",
      "metadata": {
        "colab": {
          "base_uri": "https://localhost:8080/"
        },
        "id": "4RIbrMYESaAA",
        "outputId": "b0680631-6ed6-4bed-c048-3951cef60df5"
      },
      "source": [
        "ys=0\r\n",
        "for i in TC:\r\n",
        "  if(i==16):ys=1\r\n",
        "\r\n",
        "ys"
      ],
      "execution_count": null,
      "outputs": [
        {
          "output_type": "execute_result",
          "data": {
            "text/plain": [
              "0"
            ]
          },
          "metadata": {
            "tags": []
          },
          "execution_count": 19
        }
      ]
    },
    {
      "cell_type": "code",
      "metadata": {
        "id": "rc53eo07SfqY"
      },
      "source": [
        ""
      ],
      "execution_count": 10,
      "outputs": []
    },
    {
      "cell_type": "code",
      "metadata": {
        "colab": {
          "base_uri": "https://localhost:8080/"
        },
        "id": "HoKC__1Fbqc_",
        "outputId": "3748216a-f925-4f8f-fb26-493318849910"
      },
      "source": [
        "model.summary()"
      ],
      "execution_count": null,
      "outputs": [
        {
          "output_type": "stream",
          "text": [
            "Model: \"sequential\"\n",
            "_________________________________________________________________\n",
            "Layer (type)                 Output Shape              Param #   \n",
            "=================================================================\n",
            "lstm (LSTM)                  (None, 1, 300)            391200    \n",
            "_________________________________________________________________\n",
            "dropout (Dropout)            (None, 1, 300)            0         \n",
            "_________________________________________________________________\n",
            "lstm_1 (LSTM)                (None, 440)               1304160   \n",
            "_________________________________________________________________\n",
            "dropout_1 (Dropout)          (None, 440)               0         \n",
            "_________________________________________________________________\n",
            "dense (Dense)                (None, 320)               141120    \n",
            "_________________________________________________________________\n",
            "dropout_2 (Dropout)          (None, 320)               0         \n",
            "_________________________________________________________________\n",
            "dense_1 (Dense)              (None, 16)                5136      \n",
            "=================================================================\n",
            "Total params: 1,841,616\n",
            "Trainable params: 1,841,616\n",
            "Non-trainable params: 0\n",
            "_________________________________________________________________\n"
          ],
          "name": "stdout"
        }
      ]
    },
    {
      "cell_type": "code",
      "metadata": {
        "id": "ZyMJhPh-CPNs"
      },
      "source": [
        ""
      ],
      "execution_count": null,
      "outputs": []
    },
    {
      "cell_type": "code",
      "metadata": {
        "id": "kHfHumo_DFNl"
      },
      "source": [
        ""
      ],
      "execution_count": null,
      "outputs": []
    }
  ]
}